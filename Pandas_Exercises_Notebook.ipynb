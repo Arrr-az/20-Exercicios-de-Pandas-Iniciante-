{
 "cells": [
  {
   "cell_type": "code",
   "execution_count": null,
   "id": "b57bfccd",
   "metadata": {},
   "outputs": [],
   "source": [
    "# Source: https://favtutor.com/blogs/pandas-exercises-python"
   ]
  },
  {
   "cell_type": "code",
   "execution_count": 1,
   "id": "b1d0cf0e",
   "metadata": {},
   "outputs": [
    {
     "data": {
      "text/plain": [
       "0     2\n",
       "1     4\n",
       "2     6\n",
       "3     8\n",
       "4    10\n",
       "dtype: int64"
      ]
     },
     "execution_count": 1,
     "metadata": {},
     "output_type": "execute_result"
    }
   ],
   "source": [
    "# E01 - List-to-Series Conversion\n",
    "\n",
    "# Given a list, output the corresponding pandas series\n",
    "\n",
    "import pandas as pd\n",
    "\n",
    "lista = [2, 4, 6, 8, 10]\n",
    "\n",
    "series = pd.Series(lista)\n",
    "series"
   ]
  },
  {
   "cell_type": "code",
   "execution_count": null,
   "id": "be1e12b5",
   "metadata": {},
   "outputs": [],
   "source": []
  },
  {
   "cell_type": "code",
   "execution_count": null,
   "id": "b758ea52",
   "metadata": {},
   "outputs": [],
   "source": []
  },
  {
   "cell_type": "code",
   "execution_count": 19,
   "id": "55288f6b",
   "metadata": {},
   "outputs": [
    {
     "data": {
      "text/plain": [
       "1      2\n",
       "3      4\n",
       "5      6\n",
       "7      8\n",
       "9     10\n",
       "11    12\n",
       "dtype: int64"
      ]
     },
     "execution_count": 19,
     "metadata": {},
     "output_type": "execute_result"
    }
   ],
   "source": [
    "# E02 - List-to-Series Conversion with Custom Indexing\n",
    "\n",
    "# Given a series, output the corresponding pandas series with odd indexes only\n",
    "\n",
    "import pandas as pd\n",
    "\n",
    "lista = [2, 4, 6, 8, 10, 12]\n",
    "\n",
    "series = pd.Series(lista, index = [1, 3, 5, 7, 9, 11])\n",
    "series"
   ]
  },
  {
   "cell_type": "code",
   "execution_count": null,
   "id": "8a963a07",
   "metadata": {},
   "outputs": [],
   "source": []
  },
  {
   "cell_type": "code",
   "execution_count": null,
   "id": "3cb40c79",
   "metadata": {},
   "outputs": [],
   "source": []
  },
  {
   "cell_type": "code",
   "execution_count": 5,
   "id": "e4a40ef8",
   "metadata": {},
   "outputs": [
    {
     "data": {
      "text/plain": [
       "0     01-05-2021\n",
       "1     02-05-2021\n",
       "2     03-05-2021\n",
       "3     04-05-2021\n",
       "4     05-05-2021\n",
       "5     06-05-2021\n",
       "6     07-05-2021\n",
       "7     08-05-2021\n",
       "8     09-05-2021\n",
       "9     10-05-2021\n",
       "10    11-05-2021\n",
       "11    12-05-2021\n",
       "dtype: object"
      ]
     },
     "execution_count": 5,
     "metadata": {},
     "output_type": "execute_result"
    }
   ],
   "source": [
    "# E03 - Date Series Generation\n",
    "\n",
    "# Generate the series of dates from 1st May, 2021 to 12th May, 2021 (both inclusive)\n",
    "\n",
    "# Beginner's way:\n",
    "\n",
    "import pandas as pd\n",
    "\n",
    "dates = pd.Series(['01-05-2021',\n",
    "                   '02-05-2021',\n",
    "                   '03-05-2021',\n",
    "                   '04-05-2021',\n",
    "                   '05-05-2021',\n",
    "                   '06-05-2021',\n",
    "                   '07-05-2021',\n",
    "                   '08-05-2021',\n",
    "                   '09-05-2021',\n",
    "                   '10-05-2021',\n",
    "                   '11-05-2021',\n",
    "                   '12-05-2021'])\n",
    "dates"
   ]
  },
  {
   "cell_type": "code",
   "execution_count": 10,
   "id": "d1032823",
   "metadata": {},
   "outputs": [
    {
     "data": {
      "text/plain": [
       "DatetimeIndex(['2021-05-01', '2021-05-02', '2021-05-03', '2021-05-04',\n",
       "               '2021-05-05', '2021-05-06', '2021-05-07', '2021-05-08',\n",
       "               '2021-05-09', '2021-05-10', '2021-05-11', '2021-05-12'],\n",
       "              dtype='datetime64[ns]', freq='D')"
      ]
     },
     "execution_count": 10,
     "metadata": {},
     "output_type": "execute_result"
    }
   ],
   "source": [
    "# Big boy's way:\n",
    "\n",
    "dates = pd.date_range(start = '05-01-2021', end = '05-12-2021')\n",
    "\n",
    "dates\n",
    "\n",
    "# Note that .date_range() doesn't return a Series. It returns this strange thing called DatetimeIndex. What is it?\n",
    "\n",
    "# DatetimeIndex is an immutable ndarray-like of datetime64 data.\n",
    "# Represented internally as int64, and which can be boxed to Timestamp objects that are subclasses of datetime and carry\n",
    "# metadata."
   ]
  },
  {
   "cell_type": "code",
   "execution_count": null,
   "id": "7e22111c",
   "metadata": {},
   "outputs": [],
   "source": []
  },
  {
   "cell_type": "code",
   "execution_count": null,
   "id": "cf409df5",
   "metadata": {},
   "outputs": [],
   "source": []
  },
  {
   "cell_type": "code",
   "execution_count": 4,
   "id": "5d856888",
   "metadata": {},
   "outputs": [
    {
     "data": {
      "text/plain": [
       "0    1.0\n",
       "1    2.0\n",
       "2    3.0\n",
       "3    4.0\n",
       "4    5.0\n",
       "5    6.0\n",
       "dtype: float64"
      ]
     },
     "execution_count": 4,
     "metadata": {},
     "output_type": "execute_result"
    }
   ],
   "source": [
    "# E04 - Implementing a function on each and every element of a series\n",
    "\n",
    "# Apply the function, f(x) = x/2 on each and every element of a given pandas series\n",
    "\n",
    "# Beginner's way:\n",
    "\n",
    "import pandas as pd\n",
    "\n",
    "lista = [2, 4, 6, 8, 10, 12]\n",
    "series04_in = pd.Series(lista)\n",
    "\n",
    "series04_out = series04_in/2\n",
    "series04_out"
   ]
  },
  {
   "cell_type": "code",
   "execution_count": 5,
   "id": "0dded934",
   "metadata": {},
   "outputs": [
    {
     "data": {
      "text/plain": [
       "0    1.0\n",
       "1    2.0\n",
       "2    3.0\n",
       "3    4.0\n",
       "4    5.0\n",
       "5    6.0\n",
       "dtype: float64"
      ]
     },
     "execution_count": 5,
     "metadata": {},
     "output_type": "execute_result"
    }
   ],
   "source": [
    "# Big boy's way:\n",
    "\n",
    "series04_out = series04_in.apply(lambda x : x/2)\n",
    "\n",
    "series04_out"
   ]
  },
  {
   "cell_type": "code",
   "execution_count": null,
   "id": "b45a4b14",
   "metadata": {},
   "outputs": [],
   "source": []
  },
  {
   "cell_type": "code",
   "execution_count": null,
   "id": "92e78d0d",
   "metadata": {},
   "outputs": [],
   "source": []
  },
  {
   "cell_type": "code",
   "execution_count": 13,
   "id": "7974e68b",
   "metadata": {},
   "outputs": [
    {
     "data": {
      "text/html": [
       "<div>\n",
       "<style scoped>\n",
       "    .dataframe tbody tr th:only-of-type {\n",
       "        vertical-align: middle;\n",
       "    }\n",
       "\n",
       "    .dataframe tbody tr th {\n",
       "        vertical-align: top;\n",
       "    }\n",
       "\n",
       "    .dataframe thead th {\n",
       "        text-align: right;\n",
       "    }\n",
       "</style>\n",
       "<table border=\"1\" class=\"dataframe\">\n",
       "  <thead>\n",
       "    <tr style=\"text-align: right;\">\n",
       "      <th></th>\n",
       "      <th>a</th>\n",
       "      <th>b</th>\n",
       "      <th>c</th>\n",
       "    </tr>\n",
       "  </thead>\n",
       "  <tbody>\n",
       "    <tr>\n",
       "      <th>0</th>\n",
       "      <td>arthur</td>\n",
       "      <td>bruno</td>\n",
       "      <td>caio</td>\n",
       "    </tr>\n",
       "  </tbody>\n",
       "</table>\n",
       "</div>"
      ],
      "text/plain": [
       "        a      b     c\n",
       "0  arthur  bruno  caio"
      ]
     },
     "execution_count": 13,
     "metadata": {},
     "output_type": "execute_result"
    }
   ],
   "source": [
    "# E05 - Dictionary-to-Dataframe Conversion\n",
    "\n",
    "# Given a dictionary, convert it into corresponding dataframe and display it\n",
    "\n",
    "import pandas as pd\n",
    "\n",
    "dic = {'a': ['arthur'], 'b': ['bruno'], 'c': ['caio']}\n",
    "\n",
    "df = pd.DataFrame(dic)\n",
    "df\n",
    "\n",
    "# Starting this dictionary without being inside a list (square brackets -> []), would return the error\n",
    "#   \"If using all scalar values, you must pass an index\"\n",
    "\n",
    "# That's because a dataframe needs indexing, and the python list is... well, ordered, so it fits"
   ]
  },
  {
   "cell_type": "code",
   "execution_count": null,
   "id": "6302a42c",
   "metadata": {},
   "outputs": [],
   "source": []
  },
  {
   "cell_type": "code",
   "execution_count": null,
   "id": "14be7fd1",
   "metadata": {},
   "outputs": [],
   "source": []
  },
  {
   "cell_type": "code",
   "execution_count": null,
   "id": "140a03f1",
   "metadata": {},
   "outputs": [],
   "source": [
    "# E06 - 2D List-to-Dataframe Conversion\n",
    "\n",
    "# Given a 2D List, convert it into corresponding dataframe and display it\n",
    "\n",
    "import pandas as pd\n",
    "\n"
   ]
  },
  {
   "cell_type": "code",
   "execution_count": null,
   "id": "cc7f7120",
   "metadata": {},
   "outputs": [],
   "source": []
  },
  {
   "cell_type": "code",
   "execution_count": null,
   "id": "c0a087d3",
   "metadata": {},
   "outputs": [],
   "source": []
  },
  {
   "cell_type": "code",
   "execution_count": null,
   "id": "71d31888",
   "metadata": {},
   "outputs": [],
   "source": [
    "# E07 - Reading CSV to Dataframe\n",
    "\n",
    "# Given a CSV file, read it into a dataframe and display it\n",
    "\n",
    "import pandas as pd\n",
    "\n"
   ]
  },
  {
   "cell_type": "code",
   "execution_count": null,
   "id": "b8538c7d",
   "metadata": {},
   "outputs": [],
   "source": []
  },
  {
   "cell_type": "code",
   "execution_count": null,
   "id": "9b46be07",
   "metadata": {},
   "outputs": [],
   "source": []
  },
  {
   "cell_type": "code",
   "execution_count": null,
   "id": "b1381c09",
   "metadata": {},
   "outputs": [],
   "source": [
    "# E08 - Setting Custom Index in Dataframe\n",
    "\n",
    "# Given a dataframe, change the index of a dataframe from the default indexes to a particular column\n",
    "\n",
    "import pandas as pd\n",
    "\n"
   ]
  },
  {
   "cell_type": "code",
   "execution_count": null,
   "id": "ff0d7f16",
   "metadata": {},
   "outputs": [],
   "source": []
  },
  {
   "cell_type": "code",
   "execution_count": null,
   "id": "519deb88",
   "metadata": {},
   "outputs": [],
   "source": []
  },
  {
   "cell_type": "code",
   "execution_count": null,
   "id": "0dca8752",
   "metadata": {},
   "outputs": [],
   "source": [
    "# E09 - Sorting a Dataframe by Index\n",
    "\n",
    "# Given a dataframe (say, with custom indexing), sort it by it's index\n",
    "\n",
    "import pandas as pd\n",
    "\n"
   ]
  },
  {
   "cell_type": "code",
   "execution_count": null,
   "id": "1e8f494f",
   "metadata": {},
   "outputs": [],
   "source": []
  },
  {
   "cell_type": "code",
   "execution_count": null,
   "id": "eb8a35ef",
   "metadata": {},
   "outputs": [],
   "source": []
  },
  {
   "cell_type": "code",
   "execution_count": null,
   "id": "58c74320",
   "metadata": {},
   "outputs": [],
   "source": [
    "# E10 - Sorting a Dataframe by Multiple Columns\n",
    "\n",
    "# Given a dataframe, sort it by multiple columns\n",
    "\n",
    "import pandas as pd\n",
    "\n"
   ]
  },
  {
   "cell_type": "code",
   "execution_count": null,
   "id": "12af9975",
   "metadata": {},
   "outputs": [],
   "source": []
  },
  {
   "cell_type": "code",
   "execution_count": null,
   "id": "64fc957f",
   "metadata": {},
   "outputs": [],
   "source": []
  },
  {
   "cell_type": "code",
   "execution_count": null,
   "id": "5e095d8c",
   "metadata": {},
   "outputs": [],
   "source": [
    "# E11 - DataFrame with Custom Index to DataFrame with Dataframe with default indexes\n",
    "\n",
    "# Given a dataframe with custom indexing, convert and it to default indexing and display it\n",
    "\n",
    "import pandas as pd\n",
    "\n"
   ]
  },
  {
   "cell_type": "code",
   "execution_count": null,
   "id": "cc27a9d8",
   "metadata": {},
   "outputs": [],
   "source": []
  },
  {
   "cell_type": "code",
   "execution_count": null,
   "id": "dc5cb0de",
   "metadata": {},
   "outputs": [],
   "source": []
  },
  {
   "cell_type": "code",
   "execution_count": null,
   "id": "b804a5ec",
   "metadata": {},
   "outputs": [],
   "source": [
    "# E12 - Indexing and Selecting Columns in a DataFrame\n",
    "\n",
    "# Given a dataframe, select a particular column and display it\n",
    "\n",
    "import pandas as pd\n",
    "\n"
   ]
  },
  {
   "cell_type": "code",
   "execution_count": null,
   "id": "195f1a9e",
   "metadata": {},
   "outputs": [],
   "source": []
  },
  {
   "cell_type": "code",
   "execution_count": null,
   "id": "783464b9",
   "metadata": {},
   "outputs": [],
   "source": []
  },
  {
   "cell_type": "code",
   "execution_count": null,
   "id": "2f921aae",
   "metadata": {},
   "outputs": [],
   "source": [
    "# E13 - Indexing and Selecting Rows in a DataFrame\n",
    "\n",
    "# Given a dataframe, select first 2 rows and output them\n",
    "\n",
    "import pandas as pd\n",
    "\n"
   ]
  },
  {
   "cell_type": "code",
   "execution_count": null,
   "id": "7c10600d",
   "metadata": {},
   "outputs": [],
   "source": []
  },
  {
   "cell_type": "code",
   "execution_count": null,
   "id": "b5ccb309",
   "metadata": {},
   "outputs": [],
   "source": []
  },
  {
   "cell_type": "code",
   "execution_count": null,
   "id": "768aa45a",
   "metadata": {},
   "outputs": [],
   "source": [
    "# E14 - Conditional Selection of Rows in a DataFrame\n",
    "\n",
    "# Given a dataframe, select rows based on a condition\n",
    "\n",
    "import pandas as pd\n",
    "\n"
   ]
  },
  {
   "cell_type": "code",
   "execution_count": null,
   "id": "89761e34",
   "metadata": {},
   "outputs": [],
   "source": []
  },
  {
   "cell_type": "code",
   "execution_count": null,
   "id": "7ea5fd52",
   "metadata": {},
   "outputs": [],
   "source": []
  },
  {
   "cell_type": "code",
   "execution_count": null,
   "id": "431503f7",
   "metadata": {},
   "outputs": [],
   "source": [
    "# E15 - Applying Aggregate Functions\n",
    "\n",
    "# Given is a dataframe showing name, occupation, salary of people. Find the average salary per occupation\n",
    "\n",
    "import pandas as pd\n",
    "\n"
   ]
  },
  {
   "cell_type": "code",
   "execution_count": null,
   "id": "fdd27209",
   "metadata": {},
   "outputs": [],
   "source": []
  },
  {
   "cell_type": "code",
   "execution_count": null,
   "id": "be890740",
   "metadata": {},
   "outputs": [],
   "source": []
  },
  {
   "cell_type": "code",
   "execution_count": null,
   "id": "04dd5fe8",
   "metadata": {},
   "outputs": [],
   "source": [
    "# E16 - Filling NaN Values in a DataFrame\n",
    "\n",
    "# Given a dataframe with NaN Values, fill the NaN values with 0\n",
    "\n",
    "import pandas as pd\n",
    "\n"
   ]
  },
  {
   "cell_type": "code",
   "execution_count": null,
   "id": "1abadeb8",
   "metadata": {},
   "outputs": [],
   "source": []
  },
  {
   "cell_type": "code",
   "execution_count": null,
   "id": "102bffca",
   "metadata": {},
   "outputs": [],
   "source": []
  },
  {
   "cell_type": "code",
   "execution_count": null,
   "id": "6930fe37",
   "metadata": {},
   "outputs": [],
   "source": [
    "# E17 - Applying Functions (UDFs) on DataFrame\n",
    "\n",
    "# Given is a dataframe showing Company Names (cname) and corresponding Profits (profit).\n",
    "# Convert the values of Profit column such that values in it greater than 0 are set to True and the rest are set to False.\n",
    "\n",
    "import pandas as pd\n",
    "\n"
   ]
  },
  {
   "cell_type": "code",
   "execution_count": null,
   "id": "9c6c17ce",
   "metadata": {},
   "outputs": [],
   "source": []
  },
  {
   "cell_type": "code",
   "execution_count": null,
   "id": "caabfdda",
   "metadata": {},
   "outputs": [],
   "source": []
  },
  {
   "cell_type": "code",
   "execution_count": null,
   "id": "3385d9b1",
   "metadata": {},
   "outputs": [],
   "source": [
    "# E18 - Joining 2 DataFrames by a Common Column (key)\n",
    "\n",
    "# Given are 2 dataframes, with one dataframe containing Employee ID (eid), Employee Name (ename) and Stipend (stipend)\n",
    "# and the other dataframe containing Employee ID (eid) and designation of the employee (designation).\n",
    "# Output the Dataframe containing Employee ID (eid), Employee Name (ename), Stipend (stipend) and Position (position).\n",
    "\n",
    "import pandas as pd\n",
    "\n"
   ]
  },
  {
   "cell_type": "code",
   "execution_count": null,
   "id": "19431380",
   "metadata": {},
   "outputs": [],
   "source": []
  },
  {
   "cell_type": "code",
   "execution_count": null,
   "id": "b80c4e2f",
   "metadata": {},
   "outputs": [],
   "source": []
  },
  {
   "cell_type": "code",
   "execution_count": null,
   "id": "16ada9e0",
   "metadata": {},
   "outputs": [],
   "source": [
    "# E19 - Getting the Non-Null Count and Data Type for Every Column\n",
    "\n",
    "# Given a dataframe, output the non-null count and data-type for every column\n",
    "\n",
    "import pandas as pd\n",
    "\n"
   ]
  },
  {
   "cell_type": "code",
   "execution_count": null,
   "id": "4b188d0b",
   "metadata": {},
   "outputs": [],
   "source": []
  },
  {
   "cell_type": "code",
   "execution_count": null,
   "id": "3f172cbe",
   "metadata": {},
   "outputs": [],
   "source": []
  },
  {
   "cell_type": "code",
   "execution_count": null,
   "id": "09e5a4b3",
   "metadata": {},
   "outputs": [],
   "source": [
    "# E20 - Getting the Statistical Summary of all the Numerical Features of a DataFrame\n",
    "\n",
    "# Given a dataframe, generate the statistical summary of all the numerical features present in it\n",
    "\n",
    "import pandas as pd\n",
    "\n"
   ]
  }
 ],
 "metadata": {
  "kernelspec": {
   "display_name": "Python 3 (ipykernel)",
   "language": "python",
   "name": "python3"
  },
  "language_info": {
   "codemirror_mode": {
    "name": "ipython",
    "version": 3
   },
   "file_extension": ".py",
   "mimetype": "text/x-python",
   "name": "python",
   "nbconvert_exporter": "python",
   "pygments_lexer": "ipython3",
   "version": "3.9.13"
  }
 },
 "nbformat": 4,
 "nbformat_minor": 5
}
